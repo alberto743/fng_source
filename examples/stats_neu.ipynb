{
 "cells": [
  {
   "cell_type": "code",
   "execution_count": 1,
   "id": "58c69fab",
   "metadata": {},
   "outputs": [],
   "source": [
    "import pyfngsrc"
   ]
  },
  {
   "cell_type": "code",
   "execution_count": 2,
   "id": "515dbbf0",
   "metadata": {},
   "outputs": [],
   "source": [
    "import pandas as pd"
   ]
  },
  {
   "cell_type": "code",
   "execution_count": 3,
   "id": "fb1227e6",
   "metadata": {},
   "outputs": [],
   "source": [
    "particles = 10_000_000"
   ]
  },
  {
   "cell_type": "code",
   "execution_count": 4,
   "id": "c4a4df67",
   "metadata": {},
   "outputs": [],
   "source": [
    "neutrons = list()"
   ]
  },
  {
   "cell_type": "code",
   "execution_count": 5,
   "id": "04e5b92d",
   "metadata": {
    "scrolled": true
   },
   "outputs": [],
   "source": [
    "i = 0\n",
    "while (i < particles):\n",
    "    p = pyfngsrc.sample(pyfngsrc.prng_uniform)\n",
    "    neutrons.append({\n",
    "        \"rx\": p.rx,\n",
    "        \"ry\": p.ry,\n",
    "        \"rz\": p.rz,\n",
    "        \"ux\": p.ux,\n",
    "        \"uy\": p.uy,\n",
    "        \"uz\": p.uz,\n",
    "        \"E\": p.E\n",
    "        }\n",
    "    )\n",
    "    i += 1\n",
    "    #if (i % 100_000 == 0):\n",
    "    #    print(i)"
   ]
  },
  {
   "cell_type": "code",
   "execution_count": 6,
   "id": "f6fa4fa9",
   "metadata": {},
   "outputs": [],
   "source": [
    "df=pd.DataFrame(neutrons)"
   ]
  },
  {
   "cell_type": "code",
   "execution_count": 7,
   "id": "3ffd4bdc",
   "metadata": {
    "scrolled": true
   },
   "outputs": [
    {
     "data": {
      "text/html": [
       "<div>\n",
       "<style scoped>\n",
       "    .dataframe tbody tr th:only-of-type {\n",
       "        vertical-align: middle;\n",
       "    }\n",
       "\n",
       "    .dataframe tbody tr th {\n",
       "        vertical-align: top;\n",
       "    }\n",
       "\n",
       "    .dataframe thead th {\n",
       "        text-align: right;\n",
       "    }\n",
       "</style>\n",
       "<table border=\"1\" class=\"dataframe\">\n",
       "  <thead>\n",
       "    <tr style=\"text-align: right;\">\n",
       "      <th></th>\n",
       "      <th>rx</th>\n",
       "      <th>ry</th>\n",
       "      <th>rz</th>\n",
       "      <th>ux</th>\n",
       "      <th>uy</th>\n",
       "      <th>uz</th>\n",
       "      <th>E</th>\n",
       "    </tr>\n",
       "  </thead>\n",
       "  <tbody>\n",
       "    <tr>\n",
       "      <th>0</th>\n",
       "      <td>-0.322535</td>\n",
       "      <td>0.001862</td>\n",
       "      <td>-0.081146</td>\n",
       "      <td>0.246229</td>\n",
       "      <td>0.928126</td>\n",
       "      <td>-0.279202</td>\n",
       "      <td>1.458219e+07</td>\n",
       "    </tr>\n",
       "    <tr>\n",
       "      <th>1</th>\n",
       "      <td>-0.071079</td>\n",
       "      <td>0.001196</td>\n",
       "      <td>0.365900</td>\n",
       "      <td>0.051314</td>\n",
       "      <td>0.990215</td>\n",
       "      <td>0.129777</td>\n",
       "      <td>1.437360e+07</td>\n",
       "    </tr>\n",
       "    <tr>\n",
       "      <th>2</th>\n",
       "      <td>0.562439</td>\n",
       "      <td>0.001348</td>\n",
       "      <td>-0.321396</td>\n",
       "      <td>-0.133741</td>\n",
       "      <td>0.942324</td>\n",
       "      <td>-0.306820</td>\n",
       "      <td>1.462445e+07</td>\n",
       "    </tr>\n",
       "    <tr>\n",
       "      <th>3</th>\n",
       "      <td>0.038942</td>\n",
       "      <td>0.001344</td>\n",
       "      <td>0.389935</td>\n",
       "      <td>0.221759</td>\n",
       "      <td>-0.829365</td>\n",
       "      <td>-0.512812</td>\n",
       "      <td>1.341515e+07</td>\n",
       "    </tr>\n",
       "    <tr>\n",
       "      <th>4</th>\n",
       "      <td>0.073734</td>\n",
       "      <td>0.001172</td>\n",
       "      <td>-0.360108</td>\n",
       "      <td>-0.374723</td>\n",
       "      <td>0.905080</td>\n",
       "      <td>0.201029</td>\n",
       "      <td>1.459393e+07</td>\n",
       "    </tr>\n",
       "    <tr>\n",
       "      <th>...</th>\n",
       "      <td>...</td>\n",
       "      <td>...</td>\n",
       "      <td>...</td>\n",
       "      <td>...</td>\n",
       "      <td>...</td>\n",
       "      <td>...</td>\n",
       "      <td>...</td>\n",
       "    </tr>\n",
       "    <tr>\n",
       "      <th>9999995</th>\n",
       "      <td>0.244487</td>\n",
       "      <td>0.001129</td>\n",
       "      <td>-0.134709</td>\n",
       "      <td>0.397447</td>\n",
       "      <td>-0.646603</td>\n",
       "      <td>-0.651107</td>\n",
       "      <td>1.360367e+07</td>\n",
       "    </tr>\n",
       "    <tr>\n",
       "      <th>9999996</th>\n",
       "      <td>-0.577348</td>\n",
       "      <td>0.001095</td>\n",
       "      <td>-0.105830</td>\n",
       "      <td>-0.383834</td>\n",
       "      <td>0.922914</td>\n",
       "      <td>-0.030002</td>\n",
       "      <td>1.465096e+07</td>\n",
       "    </tr>\n",
       "    <tr>\n",
       "      <th>9999997</th>\n",
       "      <td>0.218342</td>\n",
       "      <td>0.001910</td>\n",
       "      <td>-0.173877</td>\n",
       "      <td>-0.335734</td>\n",
       "      <td>0.941919</td>\n",
       "      <td>0.008402</td>\n",
       "      <td>1.455344e+07</td>\n",
       "    </tr>\n",
       "    <tr>\n",
       "      <th>9999998</th>\n",
       "      <td>-0.289286</td>\n",
       "      <td>0.001188</td>\n",
       "      <td>0.161917</td>\n",
       "      <td>-0.941505</td>\n",
       "      <td>0.069227</td>\n",
       "      <td>-0.329811</td>\n",
       "      <td>1.405047e+07</td>\n",
       "    </tr>\n",
       "    <tr>\n",
       "      <th>9999999</th>\n",
       "      <td>-0.136702</td>\n",
       "      <td>0.001923</td>\n",
       "      <td>0.058404</td>\n",
       "      <td>0.001242</td>\n",
       "      <td>0.999999</td>\n",
       "      <td>0.000240</td>\n",
       "      <td>1.456984e+07</td>\n",
       "    </tr>\n",
       "  </tbody>\n",
       "</table>\n",
       "<p>10000000 rows × 7 columns</p>\n",
       "</div>"
      ],
      "text/plain": [
       "               rx        ry        rz        ux        uy        uz  \\\n",
       "0       -0.322535  0.001862 -0.081146  0.246229  0.928126 -0.279202   \n",
       "1       -0.071079  0.001196  0.365900  0.051314  0.990215  0.129777   \n",
       "2        0.562439  0.001348 -0.321396 -0.133741  0.942324 -0.306820   \n",
       "3        0.038942  0.001344  0.389935  0.221759 -0.829365 -0.512812   \n",
       "4        0.073734  0.001172 -0.360108 -0.374723  0.905080  0.201029   \n",
       "...           ...       ...       ...       ...       ...       ...   \n",
       "9999995  0.244487  0.001129 -0.134709  0.397447 -0.646603 -0.651107   \n",
       "9999996 -0.577348  0.001095 -0.105830 -0.383834  0.922914 -0.030002   \n",
       "9999997  0.218342  0.001910 -0.173877 -0.335734  0.941919  0.008402   \n",
       "9999998 -0.289286  0.001188  0.161917 -0.941505  0.069227 -0.329811   \n",
       "9999999 -0.136702  0.001923  0.058404  0.001242  0.999999  0.000240   \n",
       "\n",
       "                    E  \n",
       "0        1.458219e+07  \n",
       "1        1.437360e+07  \n",
       "2        1.462445e+07  \n",
       "3        1.341515e+07  \n",
       "4        1.459393e+07  \n",
       "...               ...  \n",
       "9999995  1.360367e+07  \n",
       "9999996  1.465096e+07  \n",
       "9999997  1.455344e+07  \n",
       "9999998  1.405047e+07  \n",
       "9999999  1.456984e+07  \n",
       "\n",
       "[10000000 rows x 7 columns]"
      ]
     },
     "execution_count": 7,
     "metadata": {},
     "output_type": "execute_result"
    }
   ],
   "source": [
    "df"
   ]
  },
  {
   "cell_type": "code",
   "execution_count": 8,
   "id": "31bd36ec",
   "metadata": {},
   "outputs": [
    {
     "data": {
      "text/plain": [
       "<Axes: ylabel='Frequency'>"
      ]
     },
     "execution_count": 8,
     "metadata": {},
     "output_type": "execute_result"
    },
    {
     "data": {
      "image/png": "[encoded data removed]",
      "text/plain": [
       "<Figure size 640x480 with 1 Axes>"
      ]
     },
     "metadata": {},
     "output_type": "display_data"
    }
   ],
   "source": [
    "df.E.plot.hist(bins=126)"
   ]
  },
  {
   "cell_type": "code",
   "execution_count": 9,
   "id": "a22e200d",
   "metadata": {},
   "outputs": [
    {
     "data": {
      "text/plain": [
       "<Axes: ylabel='Frequency'>"
      ]
     },
     "execution_count": 9,
     "metadata": {},
     "output_type": "execute_result"
    },
    {
     "data": {
      "image/png": "[encoded data removed]",
      "text/plain": [
       "<Figure size 640x480 with 1 Axes>"
      ]
     },
     "metadata": {},
     "output_type": "display_data"
    }
   ],
   "source": [
    "df.ux.plot.hist(bins=40)"
   ]
  },
  {
   "cell_type": "code",
   "execution_count": 10,
   "id": "099da545",
   "metadata": {},
   "outputs": [
    {
     "data": {
      "text/plain": [
       "<Axes: ylabel='Frequency'>"
      ]
     },
     "execution_count": 10,
     "metadata": {},
     "output_type": "execute_result"
    },
    {
     "data": {
      "image/png": "[encoded data removed]",
      "text/plain": [
       "<Figure size 640x480 with 1 Axes>"
      ]
     },
     "metadata": {},
     "output_type": "display_data"
    }
   ],
   "source": [
    "df.uy.plot.hist(bins=40)"
   ]
  },
  {
   "cell_type": "code",
   "execution_count": 11,
   "id": "f932d283",
   "metadata": {},
   "outputs": [
    {
     "data": {
      "text/plain": [
       "<Axes: ylabel='Frequency'>"
      ]
     },
     "execution_count": 11,
     "metadata": {},
     "output_type": "execute_result"
    },
    {
     "data": {
      "image/png": "[encoded data removed]",
      "text/plain": [
       "<Figure size 640x480 with 1 Axes>"
      ]
     },
     "metadata": {},
     "output_type": "display_data"
    }
   ],
   "source": [
    "df.uz.plot.hist(bins=40)"
   ]
  },
  {
   "cell_type": "code",
   "execution_count": null,
   "id": "ce67ab06",
   "metadata": {},
   "outputs": [],
   "source": []
  }
 ],
 "metadata": {
  "kernelspec": {
   "display_name": "Python 3 (ipykernel)",
   "language": "python",
   "name": "python3"
  },
  "language_info": {
   "codemirror_mode": {
    "name": "ipython",
    "version": 3
   },
   "file_extension": ".py",
   "mimetype": "text/x-python",
   "name": "python",
   "nbconvert_exporter": "python",
   "pygments_lexer": "ipython3",
   "version": "3.13.5"
  }
 },
 "nbformat": 4,
 "nbformat_minor": 5
}
